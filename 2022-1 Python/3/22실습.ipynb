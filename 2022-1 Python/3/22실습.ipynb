{
 "cells": [
  {
   "cell_type": "code",
   "execution_count": 2,
   "metadata": {},
   "outputs": [
    {
     "name": "stdout",
     "output_type": "stream",
     "text": [
      "섭씨 온도 :  37.77777777777778\n"
     ]
    }
   ],
   "source": [
    "ftemp=100\n",
    "ctemp=(ftemp-32.0)*5/9\n",
    "print(\"섭씨 온도 : \", ctemp)"
   ]
  },
  {
   "cell_type": "code",
   "execution_count": 1,
   "metadata": {},
   "outputs": [
    {
     "name": "stdout",
     "output_type": "stream",
     "text": [
      "925.88\n"
     ]
    }
   ],
   "source": [
    "price=12345\n",
    "tax=price*0.075\n",
    "tax=round(tax,2)\n",
    "print(tax)"
   ]
  },
  {
   "cell_type": "code",
   "execution_count": 4,
   "metadata": {},
   "outputs": [
    {
     "name": "stdout",
     "output_type": "stream",
     "text": [
      "줄바꿈\\문자\n"
     ]
    }
   ],
   "source": [
    "print(\"줄바꿈\\\\문자\")"
   ]
  },
  {
   "cell_type": "code",
   "execution_count": 7,
   "metadata": {},
   "outputs": [],
   "source": [
    "stadium=input(\"경기장?\")\n",
    "winner=input(\"승자?\")\n",
    "loser=input(\"패자?\")\n",
    "\n",
    "print(stadium)\n",
    "print(winner)\n",
    "print(loser)"
   ]
  }
 ],
 "metadata": {
  "interpreter": {
   "hash": "b9d66ebee63a3bfa68eb4f5b1548b705e328edd138638cbcf3ed8bb2d6cd834c"
  },
  "kernelspec": {
   "display_name": "Python 3.9.7 ('base')",
   "language": "python",
   "name": "python3"
  },
  "language_info": {
   "codemirror_mode": {
    "name": "ipython",
    "version": 3
   },
   "file_extension": ".py",
   "mimetype": "text/x-python",
   "name": "python",
   "nbconvert_exporter": "python",
   "pygments_lexer": "ipython3",
   "version": "3.9.7"
  },
  "orig_nbformat": 4
 },
 "nbformat": 4,
 "nbformat_minor": 2
}
