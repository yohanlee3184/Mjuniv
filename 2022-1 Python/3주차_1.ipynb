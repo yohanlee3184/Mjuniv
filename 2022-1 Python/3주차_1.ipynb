{
 "cells": [
  {
   "cell_type": "code",
   "execution_count": 5,
   "metadata": {},
   "outputs": [
    {
     "name": "stdout",
     "output_type": "stream",
     "text": [
      "배송비= 3000\n"
     ]
    }
   ],
   "source": [
    "price=int(input(\"상품의 가격:\"))\n",
    "if price>20000:\n",
    "    shipping_cost=0\n",
    "else:\n",
    "        shipping_cost=3000\n",
    "print(\"배송비=\",shipping_cost)"
   ]
  },
  {
   "cell_type": "code",
   "execution_count": 7,
   "metadata": {},
   "outputs": [
    {
     "name": "stdout",
     "output_type": "stream",
     "text": [
      "True\n"
     ]
    }
   ],
   "source": [
    "radius=100\n",
    "flag=(radius>32)\n",
    "print(flag)"
   ]
  },
  {
   "cell_type": "code",
   "execution_count": 8,
   "metadata": {},
   "outputs": [
    {
     "name": "stdout",
     "output_type": "stream",
     "text": [
      "True\n"
     ]
    }
   ],
   "source": [
    "s1=\"Audery Hepburn\"\n",
    "s2=\"Audery Hepburn\"\n",
    "print(s1==s2)"
   ]
  },
  {
   "cell_type": "code",
   "execution_count": 10,
   "metadata": {},
   "outputs": [
    {
     "name": "stdout",
     "output_type": "stream",
     "text": [
      "sqrt(3.0)*sqrt(3.0)은 3.0과 같지 않다\n"
     ]
    }
   ],
   "source": [
    "from math import sqrt\n",
    "n=sqrt(3.0)\n",
    "if n*n==3.0:\n",
    "    print(\"sqrt(3.0)*sqrt(3.0)은 3.0과 같다\")\n",
    "else:\n",
    "    print(\"sqrt(3.0)*sqrt(3.0)은 3.0과 같지 않다\")\n"
   ]
  },
  {
   "cell_type": "code",
   "execution_count": 1,
   "metadata": {},
   "outputs": [
    {
     "name": "stdout",
     "output_type": "stream",
     "text": [
      "True\n"
     ]
    }
   ],
   "source": [
    "import random\n",
    "x=random.randint(1,100)\n",
    "y=random.randint(1,100)\n",
    "\n",
    "answer=int (input(f\"{x} + {y} = \"))\n",
    "\n",
    "flag=(answer==(x+y))\n",
    "print(flag)"
   ]
  },
  {
   "cell_type": "code",
   "execution_count": null,
   "metadata": {},
   "outputs": [],
   "source": []
  }
 ],
 "metadata": {
  "interpreter": {
   "hash": "f0976989566ff0ce300529a9e5eec499ee7a9760273e4a05478dab6e15bce5cf"
  },
  "kernelspec": {
   "display_name": "Python 3.10.2 64-bit",
   "language": "python",
   "name": "python3"
  },
  "language_info": {
   "codemirror_mode": {
    "name": "ipython",
    "version": 3
   },
   "file_extension": ".py",
   "mimetype": "text/x-python",
   "name": "python",
   "nbconvert_exporter": "python",
   "pygments_lexer": "ipython3",
   "version": "3.10.2"
  },
  "orig_nbformat": 4
 },
 "nbformat": 4,
 "nbformat_minor": 2
}
