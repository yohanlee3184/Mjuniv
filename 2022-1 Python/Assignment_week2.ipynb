{
 "cells": [
  {
   "cell_type": "code",
   "execution_count": 2,
   "metadata": {},
   "outputs": [],
   "source": [
    "import turtle\n",
    "turtle.shape(\"turtle\")\n",
    "turtle.write(turtle.position())\n"
   ]
  },
  {
   "cell_type": "code",
   "execution_count": 5,
   "metadata": {},
   "outputs": [
    {
     "name": "stdout",
     "output_type": "stream",
     "text": [
      "안녕 Python\n",
      "ABC A's C\n",
      "ABC A\"BC\n",
      "ABC\n",
      "ABC\n",
      "12345678901234567890\n",
      "-12345678901234567890\n",
      "0.12345678901234568\n",
      "1 2\n",
      "123456789012345678902\n"
     ]
    }
   ],
   "source": [
    "print(\"안녕 Python\")\n",
    "print(\"ABC\",\"A's C\")\n",
    "print('ABC','A\"BC')\n",
    "print(\"\"\"ABC\"\"\")\n",
    "print('''ABC''')\n",
    "print(12345678901234567890)\n",
    "print(-12345678901234567890)\n",
    "print(0.1234567890123456789)\n",
    "print(6 // 4, 6 % 4)\n",
    "print(123456789012345678901 + 1)\n",
    "\n"
   ]
  },
  {
   "cell_type": "code",
   "execution_count": 1,
   "metadata": {},
   "outputs": [
    {
     "name": "stdout",
     "output_type": "stream",
     "text": [
      "0.0\n"
     ]
    }
   ],
   "source": [
    "print(0 / 1)"
   ]
  },
  {
   "cell_type": "code",
   "execution_count": 2,
   "metadata": {},
   "outputs": [
    {
     "ename": "ZeroDivisionError",
     "evalue": "division by zero",
     "output_type": "error",
     "traceback": [
      "\u001b[1;31m---------------------------------------------------------------------------\u001b[0m",
      "\u001b[1;31mZeroDivisionError\u001b[0m                         Traceback (most recent call last)",
      "\u001b[1;32me:\\Programming\\Mjuniv\\2022-1 Python\\Assignment_week2.ipynb Cell 4'\u001b[0m in \u001b[0;36m<cell line: 1>\u001b[1;34m()\u001b[0m\n\u001b[1;32m----> <a href='vscode-notebook-cell:/e%3A/Programming/Mjuniv/2022-1%20Python/Assignment_week2.ipynb#ch0000004?line=0'>1</a>\u001b[0m \u001b[39mprint\u001b[39m(\u001b[39m0\u001b[39;49m \u001b[39m/\u001b[39;49m \u001b[39m0\u001b[39;49m)\n",
      "\u001b[1;31mZeroDivisionError\u001b[0m: division by zero"
     ]
    }
   ],
   "source": [
    "print(0 / 0)"
   ]
  },
  {
   "cell_type": "code",
   "execution_count": 3,
   "metadata": {},
   "outputs": [
    {
     "ename": "ZeroDivisionError",
     "evalue": "division by zero",
     "output_type": "error",
     "traceback": [
      "\u001b[1;31m---------------------------------------------------------------------------\u001b[0m",
      "\u001b[1;31mZeroDivisionError\u001b[0m                         Traceback (most recent call last)",
      "\u001b[1;32me:\\Programming\\Mjuniv\\2022-1 Python\\Assignment_week2.ipynb Cell 5'\u001b[0m in \u001b[0;36m<cell line: 1>\u001b[1;34m()\u001b[0m\n\u001b[1;32m----> <a href='vscode-notebook-cell:/e%3A/Programming/Mjuniv/2022-1%20Python/Assignment_week2.ipynb#ch0000002?line=0'>1</a>\u001b[0m \u001b[39mprint\u001b[39m(\u001b[39m1\u001b[39;49m \u001b[39m/\u001b[39;49m \u001b[39m0\u001b[39;49m)\n",
      "\u001b[1;31mZeroDivisionError\u001b[0m: division by zero"
     ]
    }
   ],
   "source": [
    "print(1 / 0)"
   ]
  },
  {
   "cell_type": "code",
   "execution_count": 3,
   "metadata": {},
   "outputs": [
    {
     "name": "stdout",
     "output_type": "stream",
     "text": [
      "(0.00,0.00)\n",
      "(50.00,0.00)\n",
      "(50.00,0.00)\n",
      "(50.00,50.00)\n"
     ]
    }
   ],
   "source": [
    "import turtle\n",
    "turtle.shape(\"turtle\")\n",
    "print(turtle.position())\n",
    "turtle.forward(50)\n",
    "print(turtle.position())\n",
    "turtle.left(90)\n",
    "print(turtle.position())\n",
    "turtle.forward(50)\n",
    "print(turtle.position())\n",
    "\n",
    "turtle.mainloop()\n",
    "turtle.bye()"
   ]
  },
  {
   "cell_type": "code",
   "execution_count": 1,
   "metadata": {},
   "outputs": [
    {
     "ename": "Terminator",
     "evalue": "",
     "output_type": "error",
     "traceback": [
      "\u001b[1;31m---------------------------------------------------------------------------\u001b[0m",
      "\u001b[1;31mTerminator\u001b[0m                                Traceback (most recent call last)",
      "\u001b[1;32me:\\Programming\\Mjuniv\\2022-1 Python\\Assignment_week2.ipynb Cell 7'\u001b[0m in \u001b[0;36m<cell line: 13>\u001b[1;34m()\u001b[0m\n\u001b[0;32m     <a href='vscode-notebook-cell:/e%3A/Programming/Mjuniv/2022-1%20Python/Assignment_week2.ipynb#ch0000006?line=9'>10</a>\u001b[0m turtle\u001b[39m.\u001b[39mforward(\u001b[39m100\u001b[39m)\n\u001b[0;32m     <a href='vscode-notebook-cell:/e%3A/Programming/Mjuniv/2022-1%20Python/Assignment_week2.ipynb#ch0000006?line=11'>12</a>\u001b[0m turtle\u001b[39m.\u001b[39mmainloop()\n\u001b[1;32m---> <a href='vscode-notebook-cell:/e%3A/Programming/Mjuniv/2022-1%20Python/Assignment_week2.ipynb#ch0000006?line=12'>13</a>\u001b[0m turtle\u001b[39m.\u001b[39;49mbye()\n",
      "File \u001b[1;32m<string>:5\u001b[0m, in \u001b[0;36mbye\u001b[1;34m()\u001b[0m\n",
      "\u001b[1;31mTerminator\u001b[0m: "
     ]
    }
   ],
   "source": [
    "import turtle\n",
    "turtle.shape(\"turtle\")\n",
    "turtle.right(90)\n",
    "turtle.forward(100)\n",
    "turtle.right(90)\n",
    "turtle.forward(100)\n",
    "turtle.right(90)\n",
    "turtle.forward(100)\n",
    "turtle.right(90)\n",
    "turtle.forward(100)\n",
    "\n",
    "turtle.mainloop()\n",
    "turtle.bye()"
   ]
  },
  {
   "cell_type": "code",
   "execution_count": 1,
   "metadata": {},
   "outputs": [
    {
     "ename": "Terminator",
     "evalue": "",
     "output_type": "error",
     "traceback": [
      "\u001b[1;31m---------------------------------------------------------------------------\u001b[0m",
      "\u001b[1;31mTerminator\u001b[0m                                Traceback (most recent call last)",
      "\u001b[1;32me:\\Programming\\Mjuniv\\2022-1 Python\\Assignment_week2.ipynb Cell 8'\u001b[0m in \u001b[0;36m<cell line: 7>\u001b[1;34m()\u001b[0m\n\u001b[0;32m      <a href='vscode-notebook-cell:/e%3A/Programming/Mjuniv/2022-1%20Python/Assignment_week2.ipynb#ch0000007?line=4'>5</a>\u001b[0m     turtle\u001b[39m.\u001b[39mfd(\u001b[39m100\u001b[39m)\n\u001b[0;32m      <a href='vscode-notebook-cell:/e%3A/Programming/Mjuniv/2022-1%20Python/Assignment_week2.ipynb#ch0000007?line=5'>6</a>\u001b[0m turtle\u001b[39m.\u001b[39mmainloop()\n\u001b[1;32m----> <a href='vscode-notebook-cell:/e%3A/Programming/Mjuniv/2022-1%20Python/Assignment_week2.ipynb#ch0000007?line=6'>7</a>\u001b[0m turtle\u001b[39m.\u001b[39;49mbye()\n",
      "File \u001b[1;32m<string>:5\u001b[0m, in \u001b[0;36mbye\u001b[1;34m()\u001b[0m\n",
      "\u001b[1;31mTerminator\u001b[0m: "
     ]
    }
   ],
   "source": [
    "import turtle\n",
    "turtle.shape(\"turtle\")\n",
    "for i in range(4): \n",
    "    turtle.right(90) \n",
    "    turtle.fd(100)\n",
    "turtle.mainloop()\n",
    "turtle.bye()"
   ]
  },
  {
   "cell_type": "code",
   "execution_count": 2,
   "metadata": {},
   "outputs": [
    {
     "name": "stdout",
     "output_type": "stream",
     "text": [
      "안녕파이썬\n",
      "안녕파이썬\n",
      "안녕 파이썬\n",
      "1020\n"
     ]
    },
    {
     "ename": "TypeError",
     "evalue": "can only concatenate str (not \"int\") to str",
     "output_type": "error",
     "traceback": [
      "\u001b[1;31m---------------------------------------------------------------------------\u001b[0m",
      "\u001b[1;31mTypeError\u001b[0m                                 Traceback (most recent call last)",
      "\u001b[1;32me:\\Programming\\Mjuniv\\2022-1 Python\\Assignment_week2.ipynb Cell 9'\u001b[0m in \u001b[0;36m<cell line: 5>\u001b[1;34m()\u001b[0m\n\u001b[0;32m      <a href='vscode-notebook-cell:/e%3A/Programming/Mjuniv/2022-1%20Python/Assignment_week2.ipynb#ch0000008?line=2'>3</a>\u001b[0m \u001b[39mprint\u001b[39m(\u001b[39m\"\u001b[39m\u001b[39m안녕\u001b[39m\u001b[39m\"\u001b[39m \u001b[39m+\u001b[39m \u001b[39m\"\u001b[39m\u001b[39m \u001b[39m\u001b[39m\"\u001b[39m \u001b[39m+\u001b[39m \u001b[39m\"\u001b[39m\u001b[39m파이썬\u001b[39m\u001b[39m\"\u001b[39m)\n\u001b[0;32m      <a href='vscode-notebook-cell:/e%3A/Programming/Mjuniv/2022-1%20Python/Assignment_week2.ipynb#ch0000008?line=3'>4</a>\u001b[0m \u001b[39mprint\u001b[39m(\u001b[39m\"\u001b[39m\u001b[39m10\u001b[39m\u001b[39m\"\u001b[39m \u001b[39m+\u001b[39m \u001b[39m\"\u001b[39m\u001b[39m20\u001b[39m\u001b[39m\"\u001b[39m)\n\u001b[1;32m----> <a href='vscode-notebook-cell:/e%3A/Programming/Mjuniv/2022-1%20Python/Assignment_week2.ipynb#ch0000008?line=4'>5</a>\u001b[0m \u001b[39mprint\u001b[39m(\u001b[39m\"\u001b[39;49m\u001b[39m10\u001b[39;49m\u001b[39m\"\u001b[39;49m \u001b[39m+\u001b[39;49m \u001b[39m20\u001b[39;49m)\n",
      "\u001b[1;31mTypeError\u001b[0m: can only concatenate str (not \"int\") to str"
     ]
    }
   ],
   "source": [
    "print(\"안녕\" + \"파이썬\")\n",
    "print(\"안녕\" + \"파이썬\")\n",
    "print(\"안녕\" + \" \" + \"파이썬\")\n",
    "print(\"10\" + \"20\")\n",
    "print(\"10\" + 20)"
   ]
  },
  {
   "cell_type": "code",
   "execution_count": 4,
   "metadata": {},
   "outputs": [
    {
     "name": "stdout",
     "output_type": "stream",
     "text": [
      "파이썬 파이썬 파이썬 파이썬 파이썬 파이썬 파이썬 파이썬 파이썬 파이썬 \n",
      "15\n",
      "10.0\n",
      " 6 + 4 =  10\n"
     ]
    }
   ],
   "source": [
    "print(\"파이썬 \" * 10)\n",
    "print(1 + 2 + 3 + 4 + 5)\n",
    "print((5 + 10 + 15) / 3)\n",
    "print(\" 6 + 4 = \", 6 + 4)"
   ]
  },
  {
   "cell_type": "code",
   "execution_count": null,
   "metadata": {},
   "outputs": [],
   "source": [
    "import turtle\n",
    "turtle.shape(\"turtle\")\n",
    "turtle.right(90)\n",
    "turtle.forward(100)\n",
    "turtle.right(90)\n",
    "turtle.forward(100)\n",
    "turtle.right(90)\n",
    "turtle.forward(100)\n",
    "turtle.right(90)\n",
    "turtle.forward(100)\n",
    "\n",
    "turtle.mainloop()\n",
    "turtle.bye()"
   ]
  }
 ],
 "metadata": {
  "interpreter": {
   "hash": "f0976989566ff0ce300529a9e5eec499ee7a9760273e4a05478dab6e15bce5cf"
  },
  "kernelspec": {
   "display_name": "Python 3.10.2 64-bit",
   "language": "python",
   "name": "python3"
  },
  "language_info": {
   "codemirror_mode": {
    "name": "ipython",
    "version": 3
   },
   "file_extension": ".py",
   "mimetype": "text/x-python",
   "name": "python",
   "nbconvert_exporter": "python",
   "pygments_lexer": "ipython3",
   "version": "3.10.2"
  },
  "orig_nbformat": 4
 },
 "nbformat": 4,
 "nbformat_minor": 2
}
