{
 "cells": [
  {
   "cell_type": "code",
   "execution_count": 22,
   "metadata": {},
   "outputs": [
    {
     "name": "stdout",
     "output_type": "stream",
     "text": [
      "나무를 0  번 찍었다.\n",
      "나무를 1  번 찍었다.\n",
      "나무를 2  번 찍었다.\n",
      "나무를 3  번 찍었다.\n",
      "나무를 4  번 찍었다.\n",
      "나무를 5  번 찍었다.\n",
      "나무를 6  번 찍었다.\n",
      "나무를 7  번 찍었다.\n",
      "나무를 8  번 찍었다.\n",
      "나무를 9  번 찍었다.\n",
      "나무를 10  번 찍었다.\n",
      "나무가 넘어갔다. 와우..!!\n"
     ]
    }
   ],
   "source": [
    "num=0\n",
    "while True:\n",
    "    if(num<=10):\n",
    "        print(\"나무를\", num ,\" 번 찍었다.\")\n",
    "        num=num+1\n",
    "    else:\n",
    "        print(\"나무가 넘어갔다. 와우..!!\")\n",
    "        break\n",
    "\n"
   ]
  },
  {
   "cell_type": "code",
   "execution_count": 23,
   "metadata": {},
   "outputs": [
    {
     "name": "stdout",
     "output_type": "stream",
     "text": [
      "과체중 입니다.\n"
     ]
    }
   ],
   "source": [
    "h= int(input(\"본인의 키(cm) : \"))*0.01\n",
    "kg=int (input(\"본인의 몸무게(kg) :  \"))\n",
    "\n",
    "bmi = kg/h/h\n",
    "if(bmi<18.5):\n",
    "    print(\"저체중 입니다.\")\n",
    "elif(bmi<23 and bmi>=18.5):\n",
    "    print(\"정상 입니다.\")\n",
    "elif(bmi<25 and bmi>=23 ):\n",
    "    print(\"과체중 입니다.\")\n",
    "elif(bmi<30 and bmi>=25 ):\n",
    "    print(\"경도 비만 입니다.\")\n",
    "elif(bmi<35 and bmi>=30 ):\n",
    "    print(\"중등도 비만 입니다.\")\n",
    "elif(bmi>=35):\n",
    "    print(\"고도 비만 입니다.\")"
   ]
  },
  {
   "cell_type": "code",
   "execution_count": 24,
   "metadata": {},
   "outputs": [
    {
     "name": "stdout",
     "output_type": "stream",
     "text": [
      "1 2 3 4 5 6 7 8 9 10 11 12 13 14 15 16 17 18 19 \n",
      "2 4 6 8 10 12 14 16 18 20 22 24 26 28 30 32 34 36 38 \n",
      "3 6 9 12 15 18 21 24 27 30 33 36 39 42 45 48 51 54 57 \n",
      "4 8 12 16 20 24 28 32 36 40 44 48 52 56 60 64 68 72 76 \n",
      "5 10 15 20 25 30 35 40 45 50 55 60 65 70 75 80 85 90 95 \n",
      "6 12 18 24 30 36 42 48 54 60 66 72 78 84 90 96 102 108 114 \n",
      "7 14 21 28 35 42 49 56 63 70 77 84 91 98 105 112 119 126 133 \n",
      "8 16 24 32 40 48 56 64 72 80 88 96 104 112 120 128 136 144 152 \n",
      "9 18 27 36 45 54 63 72 81 90 99 108 117 126 135 144 153 162 171 \n",
      "10 20 30 40 50 60 70 80 90 100 110 120 130 140 150 160 170 180 190 \n",
      "11 22 33 44 55 66 77 88 99 110 121 132 143 154 165 176 187 198 209 \n",
      "12 24 36 48 60 72 84 96 108 120 132 144 156 168 180 192 204 216 228 \n",
      "13 26 39 52 65 78 91 104 117 130 143 156 169 182 195 208 221 234 247 \n",
      "14 28 42 56 70 84 98 112 126 140 154 168 182 196 210 224 238 252 266 \n",
      "15 30 45 60 75 90 105 120 135 150 165 180 195 210 225 240 255 270 285 \n",
      "16 32 48 64 80 96 112 128 144 160 176 192 208 224 240 256 272 288 304 \n",
      "17 34 51 68 85 102 119 136 153 170 187 204 221 238 255 272 289 306 323 \n",
      "18 36 54 72 90 108 126 144 162 180 198 216 234 252 270 288 306 324 342 \n",
      "19 38 57 76 95 114 133 152 171 190 209 228 247 266 285 304 323 342 361 \n"
     ]
    }
   ],
   "source": [
    "for i in range(1,20):\n",
    "    for j in range(1, 20):\n",
    "        print(i*j, end=' ')\n",
    "    print()"
   ]
  },
  {
   "cell_type": "code",
   "execution_count": 25,
   "metadata": {},
   "outputs": [
    {
     "name": "stdout",
     "output_type": "stream",
     "text": [
      "---------------------------------------------------\n",
      "뱀(巳) 띠 이네요.\n",
      "---------------------------------------------------\n"
     ]
    }
   ],
   "source": [
    "print(\"---------------------------------------------------\")\n",
    "year=int(input(\"당신은 몇 년에 태어나셨습니까?\"))\n",
    "num=year%12\n",
    "buf=[\"원숭이(申)\", \"닭(酉)\" ,\"개(戌)\" , \"돼지(亥)\",\"쥐(子)\",\"소(丑)\",\"호랑이(寅)\",\"토끼(卯)\",\"용(辰)\",\"뱀(巳)\",\"말(午)\",\"양(未)\"]\n",
    "test=0\n",
    "while True:\n",
    "    if num==test:\n",
    "        print(buf[test]+ \" 띠 이네요.\")\n",
    "        break\n",
    "    test+=1\n",
    "print(\"---------------------------------------------------\")"
   ]
  },
  {
   "cell_type": "code",
   "execution_count": 1,
   "metadata": {},
   "outputs": [
    {
     "name": "stdout",
     "output_type": "stream",
     "text": [
      "29 ♣ ♣ ♣ ♣ ♣ ♣ ♣ ♣ ♣ ♣ ♣ ♣ ♣ ♣ ♣ ♣ ♣ ♣ ♣ ♣ ♣ ♣ ♣ ♣ ♣ ♣ ♣ ♣ ♣ \n",
      "5 ♣ ♣ ♣ ♣ ♣ \n",
      "18 ♣ ♣ ♣ ♣ ♣ ♣ ♣ ♣ ♣ ♣ ♣ ♣ ♣ ♣ ♣ ♣ ♣ ♣ \n",
      "7 ♣ ♣ ♣ ♣ ♣ ♣ ♣ \n",
      "9 ♣ ♣ ♣ ♣ ♣ ♣ ♣ ♣ ♣ \n",
      "32 ♣ ♣ ♣ ♣ ♣ ♣ ♣ ♣ ♣ ♣ ♣ ♣ ♣ ♣ ♣ ♣ ♣ ♣ ♣ ♣ ♣ ♣ ♣ ♣ ♣ ♣ ♣ ♣ ♣ ♣ ♣ ♣ \n",
      "13 ♣ ♣ ♣ ♣ ♣ ♣ ♣ ♣ ♣ ♣ ♣ ♣ ♣ \n",
      "11 ♣ ♣ ♣ ♣ ♣ ♣ ♣ ♣ ♣ ♣ ♣ \n",
      "24 ♣ ♣ ♣ ♣ ♣ ♣ ♣ ♣ ♣ ♣ ♣ ♣ ♣ ♣ ♣ ♣ ♣ ♣ ♣ ♣ ♣ ♣ ♣ ♣ \n",
      "0 \n",
      "10 ♣ ♣ ♣ ♣ ♣ ♣ ♣ ♣ ♣ ♣ \n",
      "20 ♣ ♣ ♣ ♣ ♣ ♣ ♣ ♣ ♣ ♣ ♣ ♣ ♣ ♣ ♣ ♣ ♣ ♣ ♣ ♣ \n",
      "30 ♣ ♣ ♣ ♣ ♣ ♣ ♣ ♣ ♣ ♣ ♣ ♣ ♣ ♣ ♣ ♣ ♣ ♣ ♣ ♣ ♣ ♣ ♣ ♣ ♣ ♣ ♣ ♣ ♣ ♣ \n"
     ]
    }
   ],
   "source": [
    "data=[29,5,18,7,9,32,13,11,24,0,10,20,30]\n",
    "num=0\n",
    "while True:\n",
    "    if num==len(data):\n",
    "        break\n",
    "    print(data[num],end=' ')\n",
    "    for i in range(data[num]):\n",
    "        print('♣',end=' ')\n",
    "    print()\n",
    "    num+=1"
   ]
  },
  {
   "cell_type": "code",
   "execution_count": null,
   "metadata": {},
   "outputs": [],
   "source": []
  },
  {
   "cell_type": "code",
   "execution_count": 26,
   "metadata": {},
   "outputs": [
    {
     "name": "stdout",
     "output_type": "stream",
     "text": [
      "화씨to섭씨 : 35  =>  1.6666666666666667\n"
     ]
    }
   ],
   "source": [
    "t=(\"화씨to섭씨\",\"섭씨to화씨\")\n",
    "def fc(temper,action):\n",
    "    if(action==0):\n",
    "        temp=(temper-32)*5/9 \n",
    "        print(t[action],\":\", temper,\" => \", temp)\n",
    "    if(action==1):\n",
    "        temp=(temper*9/5)+32\n",
    "        print(t[action],\":\", temper,\" => \", temp)\n",
    "temper=int(input(\"온도를 입력하세요 ? : \"))\n",
    "action=int(input(\"변환(0:화씨to섭씨, 1:섭씨to화씨) : \"))\n",
    "fc(temper,action)"
   ]
  }
 ],
 "metadata": {
  "interpreter": {
   "hash": "f0976989566ff0ce300529a9e5eec499ee7a9760273e4a05478dab6e15bce5cf"
  },
  "kernelspec": {
   "display_name": "Python 3.10.2 64-bit",
   "language": "python",
   "name": "python3"
  },
  "language_info": {
   "codemirror_mode": {
    "name": "ipython",
    "version": 3
   },
   "file_extension": ".py",
   "mimetype": "text/x-python",
   "name": "python",
   "nbconvert_exporter": "python",
   "pygments_lexer": "ipython3",
   "version": "3.10.2"
  },
  "orig_nbformat": 4
 },
 "nbformat": 4,
 "nbformat_minor": 2
}
