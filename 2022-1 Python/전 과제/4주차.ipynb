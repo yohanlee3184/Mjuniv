{
 "cells": [
  {
   "cell_type": "code",
   "execution_count": 3,
   "metadata": {},
   "outputs": [
    {
     "name": "stdout",
     "output_type": "stream",
     "text": [
      "2 4 6 8 10 12 14 16 18 20 22 24 26 28 30 32 34 36 38 40 42 44 46 48 50 "
     ]
    }
   ],
   "source": [
    "num=2\n",
    "while num<=50:\n",
    "    if num%2==0:\n",
    "        print(num, end=\" \")\n",
    "    num=num+1    "
   ]
  },
  {
   "cell_type": "code",
   "execution_count": 4,
   "metadata": {},
   "outputs": [
    {
     "name": "stdout",
     "output_type": "stream",
     "text": [
      "1 부터 100사이의 모든 3의 배수의 합은 1683\n"
     ]
    }
   ],
   "source": [
    "num=1\n",
    "sum=0\n",
    "while num<=100:\n",
    "    if num%3==0:\n",
    "        sum+=num\n",
    "    num=num+1    \n",
    "print(\"1 부터 100사이의 모든 3의 배수의 합은 %s\" %sum)"
   ]
  },
  {
   "cell_type": "code",
   "execution_count": 8,
   "metadata": {},
   "outputs": [
    {
     "name": "stdout",
     "output_type": "stream",
     "text": [
      "1 \n",
      "1 2 \n",
      "1 2 3 \n",
      "1 2 3 4 \n",
      "1 2 3 4 5 \n"
     ]
    }
   ],
   "source": [
    "count =0\n",
    "num=int(input(\"정수를 입력하시오: \"))\n",
    "\n",
    "for i in range(1,num+1):\n",
    "    for k in range(1,i+1):\n",
    "        print(k, end=\" \")\n",
    "    print()"
   ]
  },
  {
   "cell_type": "code",
   "execution_count": 11,
   "metadata": {},
   "outputs": [
    {
     "ename": "Terminator",
     "evalue": "",
     "output_type": "error",
     "traceback": [
      "\u001b[1;31m---------------------------------------------------------------------------\u001b[0m",
      "\u001b[1;31mTerminator\u001b[0m                                Traceback (most recent call last)",
      "\u001b[1;32me:\\Programming\\Mjuniv\\2022-1 Python\\4주차.ipynb Cell 4'\u001b[0m in \u001b[0;36m<cell line: 12>\u001b[1;34m()\u001b[0m\n\u001b[0;32m      <a href='vscode-notebook-cell:/e%3A/Programming/Mjuniv/2022-1%20Python/4%EC%A3%BC%EC%B0%A8.ipynb#ch0000005?line=8'>9</a>\u001b[0m     t\u001b[39m.\u001b[39mgoto(x, \u001b[39m200\u001b[39m\u001b[39m*\u001b[39mmath\u001b[39m.\u001b[39msin(x\u001b[39m*\u001b[39m\u001b[39m3.14\u001b[39m\u001b[39m/\u001b[39m\u001b[39m180\u001b[39m))\n\u001b[0;32m     <a href='vscode-notebook-cell:/e%3A/Programming/Mjuniv/2022-1%20Python/4%EC%A3%BC%EC%B0%A8.ipynb#ch0000005?line=10'>11</a>\u001b[0m turtle\u001b[39m.\u001b[39mmainloop()\n\u001b[1;32m---> <a href='vscode-notebook-cell:/e%3A/Programming/Mjuniv/2022-1%20Python/4%EC%A3%BC%EC%B0%A8.ipynb#ch0000005?line=11'>12</a>\u001b[0m turtle\u001b[39m.\u001b[39;49mbye()\n",
      "File \u001b[1;32m<string>:5\u001b[0m, in \u001b[0;36mbye\u001b[1;34m()\u001b[0m\n",
      "\u001b[1;31mTerminator\u001b[0m: "
     ]
    }
   ],
   "source": [
    "import turtle\n",
    "import math\n",
    "\n",
    "t=turtle.Turtle()\n",
    "t.shape(\"turtle\")\n",
    "t.color('red', 'yellow')\n",
    "\n",
    "for x in range(0,360):\n",
    "    t.goto(x, 200*math.sin(x*3.14/180))\n",
    "\n",
    "turtle.mainloop()\n",
    "turtle.bye()"
   ]
  },
  {
   "cell_type": "code",
   "execution_count": 14,
   "metadata": {},
   "outputs": [
    {
     "name": "stdout",
     "output_type": "stream",
     "text": [
      "1 2 3 4 5 6 7 8 9 \n",
      "2 4 6 8 10 12 14 16 18 \n",
      "3 6 9 12 15 18 21 24 27 \n",
      "4 8 12 16 20 24 28 32 36 \n",
      "5 10 15 20 25 30 35 40 45 \n",
      "6 12 18 24 30 36 42 48 54 \n",
      "7 14 21 28 35 42 49 56 63 \n",
      "8 16 24 32 40 48 56 64 72 \n",
      "9 18 27 36 45 54 63 72 81 \n"
     ]
    }
   ],
   "source": [
    "\n",
    "for i in range(1,10):\n",
    "    for k in range(1, 10):\n",
    "        print(k*i,  end=\" \")\n",
    "    print()"
   ]
  },
  {
   "cell_type": "code",
   "execution_count": 15,
   "metadata": {},
   "outputs": [
    {
     "name": "stdout",
     "output_type": "stream",
     "text": [
      "최대공약수= 3\n"
     ]
    }
   ],
   "source": [
    "x=int(input(\"정수를 입력하시오: \"))\n",
    "y=int(input(\"정수를 입력하시오: \"))\n",
    "\n",
    "m=min(x, y)\n",
    "\n",
    "for x in range(1, m+1):\n",
    "    if x%m==0 and y%m==0:\n",
    "        gcd=m;\n",
    "print(\"최대공약수=\",gcd)"
   ]
  },
  {
   "cell_type": "code",
   "execution_count": 18,
   "metadata": {},
   "outputs": [
    {
     "name": "stdout",
     "output_type": "stream",
     "text": [
      "0 1 1 2 3 5 8 13 21 34 55 "
     ]
    }
   ],
   "source": [
    "num=int(input(\"몇 번째 항까지: \"))\n",
    "n1 =0\n",
    "n2=1\n",
    "for i in range(1,num+2):\n",
    "    print(n1, end=\" \") \n",
    "    nth=n1+n2\n",
    "    n1=n2\n",
    "    n2=nth   "
   ]
  },
  {
   "cell_type": "code",
   "execution_count": 23,
   "metadata": {},
   "outputs": [
    {
     "name": "stdout",
     "output_type": "stream",
     "text": [
      "46.10464832285218\n"
     ]
    }
   ],
   "source": [
    "n1=1\n",
    "n2=3\n",
    "sum=0\n",
    "for i in range(1,51):\n",
    "    sum+=(n1/n2)\n",
    "    n1=n2\n",
    "    n2=n2+2\n",
    "print(sum)\n"
   ]
  },
  {
   "cell_type": "code",
   "execution_count": 24,
   "metadata": {},
   "outputs": [
    {
     "name": "stdout",
     "output_type": "stream",
     "text": [
      "fizznuzz\n",
      "*\n",
      "*\n",
      "fizz\n",
      "*\n",
      "buzz\n",
      "fizz\n",
      "*\n",
      "*\n",
      "fizz\n"
     ]
    }
   ],
   "source": [
    "for i in range(10):\n",
    "    if  i%3==0 and i%5==0:\n",
    "        print(\"fizznuzz\")\n",
    "    elif i%3==0:\n",
    "        print(\"fizz\")\n",
    "    elif i%5==0:\n",
    "        print(\"buzz\")\n",
    "    else:\n",
    "        print(\"*\")"
   ]
  }
 ],
 "metadata": {
  "interpreter": {
   "hash": "f0976989566ff0ce300529a9e5eec499ee7a9760273e4a05478dab6e15bce5cf"
  },
  "kernelspec": {
   "display_name": "Python 3.10.2 64-bit",
   "language": "python",
   "name": "python3"
  },
  "language_info": {
   "codemirror_mode": {
    "name": "ipython",
    "version": 3
   },
   "file_extension": ".py",
   "mimetype": "text/x-python",
   "name": "python",
   "nbconvert_exporter": "python",
   "pygments_lexer": "ipython3",
   "version": "3.10.2"
  },
  "orig_nbformat": 4
 },
 "nbformat": 4,
 "nbformat_minor": 2
}
