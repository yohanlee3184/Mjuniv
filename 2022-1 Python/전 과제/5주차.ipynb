{
 "cells": [
  {
   "cell_type": "code",
   "execution_count": 3,
   "metadata": {},
   "outputs": [
    {
     "name": "stdout",
     "output_type": "stream",
     "text": [
      "31.416919999999998\n",
      "25.133536\n"
     ]
    }
   ],
   "source": [
    "def get_peri(radius = 5.0):\n",
    "        p = 2.0*3.141692* radius\n",
    "        return p\n",
    "print(get_peri()) # 기본 인수 사용\n",
    "print(get_peri(4.0))"
   ]
  },
  {
   "cell_type": "code",
   "execution_count": 5,
   "metadata": {},
   "outputs": [
    {
     "name": "stdout",
     "output_type": "stream",
     "text": [
      "30 -10 200 0.5 가 반환되었습니다\n"
     ]
    }
   ],
   "source": [
    "def calc(a, b):  return a+b, a-b, a*b, a/b\n",
    "x = int(input(\"첫 번째 정수를 입력하시오: \"))\n",
    "y = int(input(\"첫 번째 정수를 입력하시오: \"))\n",
    "a,b,c,d = calc(x, y)\n",
    "print(a, b, c, d, \"가 반환되었습니다\")"
   ]
  },
  {
   "cell_type": "code",
   "execution_count": 6,
   "metadata": {},
   "outputs": [
    {
     "name": "stdout",
     "output_type": "stream",
     "text": [
      "사용할 수 없습니다.\n",
      "사용할 수 없습니다.\n",
      "사용할 수 없습니다.\n",
      "사용할 수 없습니다.\n"
     ]
    }
   ],
   "source": [
    "def checkpassword(s):\n",
    "    digit, lower, upper = 0, 0, 0\n",
    "    for i in s:\n",
    "        if i.isupper():\n",
    "            upper = 1\n",
    "        elif i.islower():\n",
    "            lower = 1\n",
    "        elif i.isdigit():\n",
    "            digit = 1\n",
    "        if upper and lower and digit: print(\"사용할 수 있습니다.\")\n",
    "        else: print(\"사용할 수 없습니다.\")\n",
    "checkpassword(\"abcA\")"
   ]
  },
  {
   "cell_type": "code",
   "execution_count": 7,
   "metadata": {},
   "outputs": [
    {
     "name": "stdout",
     "output_type": "stream",
     "text": [
      "입력된 날짜는 1월 3일입니다.\n"
     ]
    }
   ],
   "source": [
    "def getIntRange(a, b, msg):\n",
    "    x =-100\n",
    "    while x < a or x > b:\n",
    "        x = int(input(msg))\n",
    "    return x\n",
    "m = getIntRange(1, 12, \"월을 입력하시오(1부터 12사이의 값): \")\n",
    "d = getIntRange(1, 31, \"일을 입력하시오(1부터 31사이의 값): \")\n",
    "print(f\"입력된 날짜는 {m}월 {d}일입니다.\")"
   ]
  },
  {
   "cell_type": "code",
   "execution_count": 9,
   "metadata": {},
   "outputs": [
    {
     "name": "stdout",
     "output_type": "stream",
     "text": [
      "12\n"
     ]
    }
   ],
   "source": [
    "def getGCD(a, b):\n",
    "    gcd = 1\n",
    "    i = 2\n",
    "    while i <= a and i <= b:\n",
    "        if a % i == 0 and b % i == 0:\n",
    "            gcd = i\n",
    "        i = i + 1\n",
    "    return gcd\n",
    "x = int(input(\"첫 번째 정수: \"))\n",
    "y = int(input(\"두 번째 정수: \"))\n",
    "print(getGCD(x, y))"
   ]
  },
  {
   "cell_type": "code",
   "execution_count": 11,
   "metadata": {},
   "outputs": [
    {
     "name": "stdout",
     "output_type": "stream",
     "text": [
      "인간: 주사위값= 6\n",
      "컴퓨터: 주사위값= 2\n",
      "인간승리\n",
      "인간: 주사위값= 2\n",
      "컴퓨터: 주사위값= 4\n",
      "컴퓨터승리\n"
     ]
    }
   ],
   "source": [
    "import random\n",
    "def dice_game() :\n",
    "    human = random.randint(1,6)\n",
    "    print(\"인간: 주사위값=\", human )\n",
    "    ai = random.randint(1,6)\n",
    "    print(\"컴퓨터: 주사위값=\", ai )\n",
    "    if human > ai :\n",
    "        print(\"인간승리\")\n",
    "    else:\n",
    "        print(\"컴퓨터승리\")\n",
    "def main() :\n",
    "    while True:\n",
    "        dice_game()\n",
    "        user = input(\"중단할까요? Y/N\")\n",
    "        if user == \"Y\" or user == \"y\":\n",
    "            break;\n",
    "main()"
   ]
  },
  {
   "cell_type": "code",
   "execution_count": 12,
   "metadata": {},
   "outputs": [
    {
     "ename": "Terminator",
     "evalue": "",
     "output_type": "error",
     "traceback": [
      "\u001b[1;31m---------------------------------------------------------------------------\u001b[0m",
      "\u001b[1;31mTerminator\u001b[0m                                Traceback (most recent call last)",
      "\u001b[1;32me:\\Programming\\Mjuniv\\2022-1 Python\\5주차.ipynb Cell 7'\u001b[0m in \u001b[0;36m<cell line: 13>\u001b[1;34m()\u001b[0m\n\u001b[0;32m     <a href='vscode-notebook-cell:/e%3A/Programming/Mjuniv/2022-1%20Python/5%EC%A3%BC%EC%B0%A8.ipynb#ch0000008?line=10'>11</a>\u001b[0m     draw_square(i\u001b[39m*\u001b[39m\u001b[39m20\u001b[39m)\n\u001b[0;32m     <a href='vscode-notebook-cell:/e%3A/Programming/Mjuniv/2022-1%20Python/5%EC%A3%BC%EC%B0%A8.ipynb#ch0000008?line=11'>12</a>\u001b[0m turtle\u001b[39m.\u001b[39mmainloop()\n\u001b[1;32m---> <a href='vscode-notebook-cell:/e%3A/Programming/Mjuniv/2022-1%20Python/5%EC%A3%BC%EC%B0%A8.ipynb#ch0000008?line=12'>13</a>\u001b[0m turtle\u001b[39m.\u001b[39;49mbye()\n",
      "File \u001b[1;32m<string>:5\u001b[0m, in \u001b[0;36mbye\u001b[1;34m()\u001b[0m\n",
      "\u001b[1;31mTerminator\u001b[0m: "
     ]
    }
   ],
   "source": [
    "import turtle\n",
    "t = turtle.Turtle()\n",
    "t.shape(\"turtle\")\n",
    "\n",
    "def draw_square(size):\n",
    "    for i in range(4):\n",
    "        t.fd(size)\n",
    "        t.left(90)\n",
    "        size = size + 5\n",
    "for i in range(10):\n",
    "    draw_square(i*20)\n",
    "turtle.mainloop()\n",
    "turtle.bye()"
   ]
  }
 ],
 "metadata": {
  "interpreter": {
   "hash": "f0976989566ff0ce300529a9e5eec499ee7a9760273e4a05478dab6e15bce5cf"
  },
  "kernelspec": {
   "display_name": "Python 3.10.2 64-bit",
   "language": "python",
   "name": "python3"
  },
  "language_info": {
   "codemirror_mode": {
    "name": "ipython",
    "version": 3
   },
   "file_extension": ".py",
   "mimetype": "text/x-python",
   "name": "python",
   "nbconvert_exporter": "python",
   "pygments_lexer": "ipython3",
   "version": "3.10.2"
  },
  "orig_nbformat": 4
 },
 "nbformat": 4,
 "nbformat_minor": 2
}
