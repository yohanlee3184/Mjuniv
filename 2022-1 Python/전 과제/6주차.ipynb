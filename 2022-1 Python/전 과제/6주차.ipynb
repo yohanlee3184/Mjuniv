{
 "cells": [
  {
   "cell_type": "code",
   "execution_count": 13,
   "metadata": {},
   "outputs": [
    {
     "name": "stdout",
     "output_type": "stream",
     "text": [
      "      |      |      \n",
      "----|----|---- \n",
      "      |      |      \n",
      "----|----|---- \n",
      "      |      |      \n",
      "      |    X|      \n",
      "----|----|---- \n",
      "      |      |      \n",
      "----|----|---- \n",
      "      |      |      \n",
      "      |    X|      \n",
      "----|----|---- \n",
      "      |    X|      \n",
      "----|----|---- \n",
      "      |      |      \n",
      "      |    X|      \n",
      "----|----|---- \n",
      "      |    X|      \n",
      "----|----|---- \n",
      "      |      |    X\n"
     ]
    },
    {
     "ename": "KeyboardInterrupt",
     "evalue": "Interrupted by user",
     "output_type": "error",
     "traceback": [
      "\u001b[1;31m---------------------------------------------------------------------------\u001b[0m",
      "\u001b[1;31mKeyboardInterrupt\u001b[0m                         Traceback (most recent call last)",
      "\u001b[1;32me:\\Programming\\Mjuniv\\2022-1 Python\\6주차.ipynb Cell 1'\u001b[0m in \u001b[0;36m<cell line: 2>\u001b[1;34m()\u001b[0m\n\u001b[0;32m      <a href='vscode-notebook-cell:/e%3A/Programming/Mjuniv/2022-1%20Python/6%EC%A3%BC%EC%B0%A8.ipynb#ch0000000?line=4'>5</a>\u001b[0m     \u001b[39mif\u001b[39;00m(r\u001b[39m!=\u001b[39m\u001b[39m2\u001b[39m):\n\u001b[0;32m      <a href='vscode-notebook-cell:/e%3A/Programming/Mjuniv/2022-1%20Python/6%EC%A3%BC%EC%B0%A8.ipynb#ch0000000?line=5'>6</a>\u001b[0m         \u001b[39mprint\u001b[39m(\u001b[39m\"\u001b[39m\u001b[39m----|----|---- \u001b[39m\u001b[39m\"\u001b[39m)\n\u001b[1;32m----> <a href='vscode-notebook-cell:/e%3A/Programming/Mjuniv/2022-1%20Python/6%EC%A3%BC%EC%B0%A8.ipynb#ch0000000?line=7'>8</a>\u001b[0m x\u001b[39m=\u001b[39m\u001b[39mint\u001b[39m(\u001b[39minput\u001b[39;49m(\u001b[39m\"\u001b[39;49m\u001b[39m다음 수의 x좌표를 입력하시오: \u001b[39;49m\u001b[39m\"\u001b[39;49m))\n\u001b[0;32m      <a href='vscode-notebook-cell:/e%3A/Programming/Mjuniv/2022-1%20Python/6%EC%A3%BC%EC%B0%A8.ipynb#ch0000000?line=8'>9</a>\u001b[0m y\u001b[39m=\u001b[39m\u001b[39mint\u001b[39m(\u001b[39minput\u001b[39m(\u001b[39m\"\u001b[39m\u001b[39m다음 수의 y좌표를 입력하시오: \u001b[39m\u001b[39m\"\u001b[39m))\n\u001b[0;32m     <a href='vscode-notebook-cell:/e%3A/Programming/Mjuniv/2022-1%20Python/6%EC%A3%BC%EC%B0%A8.ipynb#ch0000000?line=10'>11</a>\u001b[0m \u001b[39mif\u001b[39;00m  board[x][y]\u001b[39m!=\u001b[39m\u001b[39m'\u001b[39m\u001b[39m  \u001b[39m\u001b[39m'\u001b[39m:\n",
      "File \u001b[1;32m~\\AppData\\Roaming\\Python\\Python310\\site-packages\\ipykernel\\kernelbase.py:1076\u001b[0m, in \u001b[0;36mKernel.raw_input\u001b[1;34m(self, prompt)\u001b[0m\n\u001b[0;32m   <a href='file:///c%3A/Users/YohanLee/AppData/Roaming/Python/Python310/site-packages/ipykernel/kernelbase.py?line=1071'>1072</a>\u001b[0m \u001b[39mif\u001b[39;00m \u001b[39mnot\u001b[39;00m \u001b[39mself\u001b[39m\u001b[39m.\u001b[39m_allow_stdin:\n\u001b[0;32m   <a href='file:///c%3A/Users/YohanLee/AppData/Roaming/Python/Python310/site-packages/ipykernel/kernelbase.py?line=1072'>1073</a>\u001b[0m     \u001b[39mraise\u001b[39;00m StdinNotImplementedError(\n\u001b[0;32m   <a href='file:///c%3A/Users/YohanLee/AppData/Roaming/Python/Python310/site-packages/ipykernel/kernelbase.py?line=1073'>1074</a>\u001b[0m         \u001b[39m\"\u001b[39m\u001b[39mraw_input was called, but this frontend does not support input requests.\u001b[39m\u001b[39m\"\u001b[39m\n\u001b[0;32m   <a href='file:///c%3A/Users/YohanLee/AppData/Roaming/Python/Python310/site-packages/ipykernel/kernelbase.py?line=1074'>1075</a>\u001b[0m     )\n\u001b[1;32m-> <a href='file:///c%3A/Users/YohanLee/AppData/Roaming/Python/Python310/site-packages/ipykernel/kernelbase.py?line=1075'>1076</a>\u001b[0m \u001b[39mreturn\u001b[39;00m \u001b[39mself\u001b[39;49m\u001b[39m.\u001b[39;49m_input_request(\n\u001b[0;32m   <a href='file:///c%3A/Users/YohanLee/AppData/Roaming/Python/Python310/site-packages/ipykernel/kernelbase.py?line=1076'>1077</a>\u001b[0m     \u001b[39mstr\u001b[39;49m(prompt),\n\u001b[0;32m   <a href='file:///c%3A/Users/YohanLee/AppData/Roaming/Python/Python310/site-packages/ipykernel/kernelbase.py?line=1077'>1078</a>\u001b[0m     \u001b[39mself\u001b[39;49m\u001b[39m.\u001b[39;49m_parent_ident[\u001b[39m\"\u001b[39;49m\u001b[39mshell\u001b[39;49m\u001b[39m\"\u001b[39;49m],\n\u001b[0;32m   <a href='file:///c%3A/Users/YohanLee/AppData/Roaming/Python/Python310/site-packages/ipykernel/kernelbase.py?line=1078'>1079</a>\u001b[0m     \u001b[39mself\u001b[39;49m\u001b[39m.\u001b[39;49mget_parent(\u001b[39m\"\u001b[39;49m\u001b[39mshell\u001b[39;49m\u001b[39m\"\u001b[39;49m),\n\u001b[0;32m   <a href='file:///c%3A/Users/YohanLee/AppData/Roaming/Python/Python310/site-packages/ipykernel/kernelbase.py?line=1079'>1080</a>\u001b[0m     password\u001b[39m=\u001b[39;49m\u001b[39mFalse\u001b[39;49;00m,\n\u001b[0;32m   <a href='file:///c%3A/Users/YohanLee/AppData/Roaming/Python/Python310/site-packages/ipykernel/kernelbase.py?line=1080'>1081</a>\u001b[0m )\n",
      "File \u001b[1;32m~\\AppData\\Roaming\\Python\\Python310\\site-packages\\ipykernel\\kernelbase.py:1121\u001b[0m, in \u001b[0;36mKernel._input_request\u001b[1;34m(self, prompt, ident, parent, password)\u001b[0m\n\u001b[0;32m   <a href='file:///c%3A/Users/YohanLee/AppData/Roaming/Python/Python310/site-packages/ipykernel/kernelbase.py?line=1117'>1118</a>\u001b[0m             \u001b[39mbreak\u001b[39;00m\n\u001b[0;32m   <a href='file:///c%3A/Users/YohanLee/AppData/Roaming/Python/Python310/site-packages/ipykernel/kernelbase.py?line=1118'>1119</a>\u001b[0m \u001b[39mexcept\u001b[39;00m \u001b[39mKeyboardInterrupt\u001b[39;00m:\n\u001b[0;32m   <a href='file:///c%3A/Users/YohanLee/AppData/Roaming/Python/Python310/site-packages/ipykernel/kernelbase.py?line=1119'>1120</a>\u001b[0m     \u001b[39m# re-raise KeyboardInterrupt, to truncate traceback\u001b[39;00m\n\u001b[1;32m-> <a href='file:///c%3A/Users/YohanLee/AppData/Roaming/Python/Python310/site-packages/ipykernel/kernelbase.py?line=1120'>1121</a>\u001b[0m     \u001b[39mraise\u001b[39;00m \u001b[39mKeyboardInterrupt\u001b[39;00m(\u001b[39m\"\u001b[39m\u001b[39mInterrupted by user\u001b[39m\u001b[39m\"\u001b[39m) \u001b[39mfrom\u001b[39;00m \u001b[39mNone\u001b[39m\n\u001b[0;32m   <a href='file:///c%3A/Users/YohanLee/AppData/Roaming/Python/Python310/site-packages/ipykernel/kernelbase.py?line=1121'>1122</a>\u001b[0m \u001b[39mexcept\u001b[39;00m \u001b[39mException\u001b[39;00m:\n\u001b[0;32m   <a href='file:///c%3A/Users/YohanLee/AppData/Roaming/Python/Python310/site-packages/ipykernel/kernelbase.py?line=1122'>1123</a>\u001b[0m     \u001b[39mself\u001b[39m\u001b[39m.\u001b[39mlog\u001b[39m.\u001b[39mwarning(\u001b[39m\"\u001b[39m\u001b[39mInvalid Message:\u001b[39m\u001b[39m\"\u001b[39m, exc_info\u001b[39m=\u001b[39m\u001b[39mTrue\u001b[39;00m)\n",
      "\u001b[1;31mKeyboardInterrupt\u001b[0m: Interrupted by user"
     ]
    }
   ],
   "source": [
    "board =[['  '  for x in range(3)]for y in range(3)]\n",
    "while True:\n",
    "    for r in range(3):\n",
    "        print(\"    \"+board[r][0]+\"|    \"+board[r][1]+\"|    \"+board[r][2])\n",
    "        if(r!=2):\n",
    "            print(\"----|----|---- \")\n",
    "\n",
    "    x=int(input(\"다음 수의 x좌표를 입력하시오: \"))\n",
    "    y=int(input(\"다음 수의 y좌표를 입력하시오: \"))\n",
    "\n",
    "    if  board[x][y]!='  ':\n",
    "        print(\"잘못된 위치입니다.\")\n",
    "        continue\n",
    "    else:\n",
    "        board[x][y]='X'\n",
    "\n",
    "    done=False\n",
    "    for i in range(3):\n",
    "        for j in range(3):\n",
    "            if board[i][j]==' 'and not done:\n",
    "                board[i][j]='O';\n",
    "                done=True\n",
    "                break;"
   ]
  },
  {
   "cell_type": "code",
   "execution_count": 14,
   "metadata": {},
   "outputs": [
    {
     "name": "stdout",
     "output_type": "stream",
     "text": [
      ". . . . . # . # . . \n",
      ". # # # . . . # . . \n",
      ". . . # . # . . # . \n",
      ". # . . . . . # # . \n",
      ". # . . . . . . . # \n",
      ". . . . . . # . . # \n",
      ". . . . . . . . # . \n",
      ". # . . # . . . . . \n",
      ". . # . # . . . . . \n",
      "# . . . . . . . # . \n"
     ]
    }
   ],
   "source": [
    "import random\n",
    "\n",
    "board=[[False for x in range(10)]for y in range(10)]\n",
    "\n",
    "for r in range(10):\n",
    "    for c in range(10):\n",
    "        if(random.random()<0.3):\n",
    "\n",
    "            board[r][c]= True\n",
    "\n",
    "for r in range(10):\n",
    "    for c in range(10):\n",
    "        if board[r][c]:\n",
    "            print(\"# \",end=\"\")\n",
    "        else:\n",
    "            print(\". \",end=\"\")\n",
    "    print()\n"
   ]
  }
 ],
 "metadata": {
  "interpreter": {
   "hash": "f0976989566ff0ce300529a9e5eec499ee7a9760273e4a05478dab6e15bce5cf"
  },
  "kernelspec": {
   "display_name": "Python 3.10.2 64-bit",
   "language": "python",
   "name": "python3"
  },
  "language_info": {
   "codemirror_mode": {
    "name": "ipython",
    "version": 3
   },
   "file_extension": ".py",
   "mimetype": "text/x-python",
   "name": "python",
   "nbconvert_exporter": "python",
   "pygments_lexer": "ipython3",
   "version": "3.10.2"
  },
  "orig_nbformat": 4
 },
 "nbformat": 4,
 "nbformat_minor": 2
}
