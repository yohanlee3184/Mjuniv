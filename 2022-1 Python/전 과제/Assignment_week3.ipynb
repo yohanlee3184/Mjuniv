{
 "cells": [
  {
   "cell_type": "code",
   "execution_count": 2,
   "metadata": {},
   "outputs": [
    {
     "name": "stdout",
     "output_type": "stream",
     "text": [
      "약수입니다\n"
     ]
    }
   ],
   "source": [
    "x=int(input(\"정수를 입력하시오: \"))\n",
    "y=int(input(\"정수를 입력하시오: \"))\n",
    "\n",
    "if (x%y)==0:\n",
    "    print(\"약수입니다\")\n",
    "else:\n",
    "    print(\"약수가 아닙니다\") "
   ]
  },
  {
   "cell_type": "code",
   "execution_count": 3,
   "metadata": {},
   "outputs": [
    {
     "name": "stdout",
     "output_type": "stream",
     "text": [
      "Circle\n"
     ]
    }
   ],
   "source": [
    "num=input(\"문자를 입력하시오: \")\n",
    "if num==\"R\"or num==\"r\":\n",
    "    print(\"Rectangle\")\n",
    "elif num==\"t\"or num==\"T\":\n",
    "    print(\"Triangle\")\n",
    "elif num==\"c\"or num==\"C\":\n",
    "    print(\"Circle\")\n",
    "else:\n",
    "    print(\"Unknown\")\n"
   ]
  },
  {
   "cell_type": "code",
   "execution_count": 4,
   "metadata": {},
   "outputs": [
    {
     "name": "stdout",
     "output_type": "stream",
     "text": [
      "제일 작은 정수는  10 입니다.\n"
     ]
    }
   ],
   "source": [
    "x, y, z=eval(input(\"3개의 정수를 입력하시오: \"))\n",
    "if x>y:\n",
    "    num=y;\n",
    "else:\n",
    "    num=x;\n",
    "if num>z:\n",
    "    num=z\n",
    "print(\"제일 작은 정수는 \",num,\"입니다.\") \n",
    "\n",
    "    "
   ]
  },
  {
   "cell_type": "code",
   "execution_count": 5,
   "metadata": {},
   "outputs": [
    {
     "name": "stdout",
     "output_type": "stream",
     "text": [
      "타도 좋습니다.\n"
     ]
    }
   ],
   "source": [
    "height=int(input(\"키를 입력하시오(cm): \"))\n",
    "age=int(input(\"나이를 입력하시오: \"))\n",
    "if height>140 and age>=10 :\n",
    "    print(\"타도 좋습니다.\")\n",
    "else:\n",
    "    print(\"죄송합니다.\")"
   ]
  },
  {
   "cell_type": "code",
   "execution_count": 11,
   "metadata": {},
   "outputs": [
    {
     "name": "stdout",
     "output_type": "stream",
     "text": [
      "틀렸습니다.\n"
     ]
    }
   ],
   "source": [
    "import random\n",
    "x = random.randint(1, 10)\n",
    "y = random.randint(1, 10)\n",
    "op = random.randint(0, 4)\n",
    "\n",
    "if op == 0:\n",
    "    answer = int(input(str(x) + \" + \"+ str(y) + \"의 값은?\"))\n",
    "    if x+y == answer:\n",
    "        print(\"맞았습니다.\")\n",
    "    else:\n",
    "        print(\"틀렸습니다.\")\n",
    "elif op == 1:\n",
    "    answer = int(input(str(x) + \" - \"+ str(y) + \"의 값은?\"))\n",
    "    if x-y == answer:\n",
    "        print(\"맞았습니다.\")\n",
    "    else:\n",
    "        print(\"틀렸습니다.\")\n",
    "else:\n",
    "    answer = float(input(str(x) + \" / \"+ str(y) + \"의 값은?\"))\n",
    "    if x/y == answer:\n",
    "        print(\"맞았습니다.\")\n",
    "    else:\n",
    "        print(\"틀렸습니다.\")\n"
   ]
  },
  {
   "cell_type": "code",
   "execution_count": 13,
   "metadata": {},
   "outputs": [
    {
     "name": "stdout",
     "output_type": "stream",
     "text": [
      "당신의 BMI: 28.162493730951734\n",
      "과체중입니다.\n"
     ]
    }
   ],
   "source": [
    "weight = float(input(\"무게(킬로그램): \"))\n",
    "height = float(input(\"키(미터): \"))\n",
    "bmi = weight / height**2\n",
    "print(\"당신의 BMI:\", bmi)\n",
    "if  bmi >= 20.0 and bmi < 25.0:\n",
    "    print(\"정상입니다.\")\n",
    "elif  bmi >= 25.0 and bmi < 30.0:\n",
    "    print(\"과체중입니다.\")\n",
    "elif  bmi >= 30.0:\n",
    "    print(\"비만입니다.\")\n"
   ]
  },
  {
   "cell_type": "code",
   "execution_count": 15,
   "metadata": {},
   "outputs": [
    {
     "name": "stdout",
     "output_type": "stream",
     "text": [
      "윤년이 아닙니다.\n"
     ]
    }
   ],
   "source": [
    "year = int(input(\"연도를 입력하시오: \"))\n",
    "if (year % 4 == 0 and year%100 !=0) or year%400==0 :\n",
    "    print(\"윤년입니다.\")\n",
    "else:\n",
    "    print(\"윤년이 아닙니다.\")"
   ]
  },
  {
   "cell_type": "code",
   "execution_count": 17,
   "metadata": {},
   "outputs": [
    {
     "name": "stdout",
     "output_type": "stream",
     "text": [
      "Python\n"
     ]
    }
   ],
   "source": [
    "num = int(input(\"정수를 입력하시오: \"))\n",
    "if num%3==0 and num%5==0: print('Python Express')\n",
    "elif num%3==0: print('Python')\n",
    "elif num%5==0: print('Express')"
   ]
  }
 ],
 "metadata": {
  "interpreter": {
   "hash": "f0976989566ff0ce300529a9e5eec499ee7a9760273e4a05478dab6e15bce5cf"
  },
  "kernelspec": {
   "display_name": "Python 3.10.2 64-bit",
   "language": "python",
   "name": "python3"
  },
  "language_info": {
   "codemirror_mode": {
    "name": "ipython",
    "version": 3
   },
   "file_extension": ".py",
   "mimetype": "text/x-python",
   "name": "python",
   "nbconvert_exporter": "python",
   "pygments_lexer": "ipython3",
   "version": "3.10.2"
  },
  "orig_nbformat": 4
 },
 "nbformat": 4,
 "nbformat_minor": 2
}
